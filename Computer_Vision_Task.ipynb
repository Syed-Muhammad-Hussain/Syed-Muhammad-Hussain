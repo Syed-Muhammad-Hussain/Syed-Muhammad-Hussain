{
  "nbformat": 4,
  "nbformat_minor": 0,
  "metadata": {
    "colab": {
      "provenance": [],
      "authorship_tag": "ABX9TyNIRYcnfR6RReuJ3G6i0+ua",
      "include_colab_link": true
    },
    "kernelspec": {
      "name": "python3",
      "display_name": "Python 3"
    },
    "language_info": {
      "name": "python"
    }
  },
  "cells": [
    {
      "cell_type": "markdown",
      "metadata": {
        "id": "view-in-github",
        "colab_type": "text"
      },
      "source": [
        "<a href=\"https://colab.research.google.com/github/Syed-Muhammad-Hussain/Syed-Muhammad-Hussain/blob/main/Computer_Vision_Task.ipynb\" target=\"_parent\"><img src=\"https://colab.research.google.com/assets/colab-badge.svg\" alt=\"Open In Colab\"/></a>"
      ]
    },
    {
      "cell_type": "code",
      "execution_count": 7,
      "metadata": {
        "id": "gBXz1FeFbOWf"
      },
      "outputs": [],
      "source": [
        "import numpy as np\n",
        "import tensorflow as tf\n",
        "from tensorflow import keras\n",
        "from tensorflow.keras import layers\n",
        "import numpy as np\n",
        "import pandas as pd\n",
        "\n",
        "# Input data files are available in the read-only \"../input/\" directory\n",
        "# For example, running this (by clicking run or pressing Shift+Enter) will list all files under the input directory\n",
        "\n",
        "import os\n",
        "for dirname, _, filenames in os.walk('/kaggle/input'):\n",
        "    for filename in filenames:\n",
        "        print(os.path.join(dirname, filename))"
      ]
    },
    {
      "cell_type": "code",
      "source": [
        "train_images = np.load(\"train_images.npy\")\n",
        "train_labels = np.load(\"train_labels.npy\")\n",
        "test_images = np.load(\"test_images.npy\")\n",
        "test_labels = np.load(\"test_labels.npy\")"
      ],
      "metadata": {
        "id": "MGFi63TEg2d7"
      },
      "execution_count": 8,
      "outputs": []
    },
    {
      "cell_type": "code",
      "source": [
        "print(train_images.shape)\n",
        "print(train_labels.shape)\n",
        "print(test_images.shape)\n",
        "print(test_labels.shape)"
      ],
      "metadata": {
        "id": "jsjruFueg46k",
        "colab": {
          "base_uri": "https://localhost:8080/"
        },
        "outputId": "28fc255b-36ff-4233-ed09-a10476660d08"
      },
      "execution_count": 10,
      "outputs": [
        {
          "output_type": "stream",
          "name": "stdout",
          "text": [
            "(28709, 48, 48)\n",
            "(28709,)\n",
            "(7178, 48, 48)\n",
            "(7178,)\n"
          ]
        }
      ]
    },
    {
      "cell_type": "code",
      "source": [
        "label_names = ['','angry','disgust','fear','happy','neutral','sad','surprise']\n",
        "label_names"
      ],
      "metadata": {
        "colab": {
          "base_uri": "https://localhost:8080/"
        },
        "id": "O5EYPrLfcbia",
        "outputId": "4c90005c-b8fd-49e8-b29d-9ebe5bbfa832"
      },
      "execution_count": 11,
      "outputs": [
        {
          "output_type": "execute_result",
          "data": {
            "text/plain": [
              "['', 'angry', 'disgust', 'fear', 'happy', 'neutral', 'sad', 'surprise']"
            ]
          },
          "metadata": {},
          "execution_count": 11
        }
      ]
    },
    {
      "cell_type": "code",
      "source": [
        "import matplotlib.pyplot as plt\n",
        "plt.imshow(train_images[14000])\n",
        "print(\"label = \",label_names[train_labels[14000]])"
      ],
      "metadata": {
        "colab": {
          "base_uri": "https://localhost:8080/",
          "height": 448
        },
        "id": "q9MqjEVjce6E",
        "outputId": "e14fc008-a91e-4d6f-8c9f-a83a9554dd7b"
      },
      "execution_count": 12,
      "outputs": [
        {
          "output_type": "stream",
          "name": "stdout",
          "text": [
            "label =  happy\n"
          ]
        },
        {
          "output_type": "display_data",
          "data": {
            "text/plain": [
              "<Figure size 640x480 with 1 Axes>"
            ],
            "image/png": "[encoded data removed]"
          },
          "metadata": {}
        }
      ]
    },
    {
      "cell_type": "code",
      "source": [
        "# Normalize pixel values to range [0, 1]\n",
        "train_images = train_images.astype('float32') / 255.0\n",
        "test_images = test_images.astype('float32') / 255.0\n",
        "\n",
        "# Adjust labels to start from 0 (subtract 1 from all label values)\n",
        "train_labels = train_labels - 1\n",
        "test_labels = test_labels - 1\n",
        "\n",
        "# Check the unique labels in the training dataset\n",
        "unique_labels_train = np.unique(train_labels)\n",
        "print(\"Unique labels in training data:\", unique_labels_train)\n",
        "\n",
        "# Check the unique labels in the testing dataset\n",
        "unique_labels_test = np.unique(test_labels)\n",
        "print(\"Unique labels in testing data:\", unique_labels_test)"
      ],
      "metadata": {
        "colab": {
          "base_uri": "https://localhost:8080/"
        },
        "id": "PKT5FBU6cjKs",
        "outputId": "4ff10958-aa2b-440e-bcfc-e6ede8f2acaf"
      },
      "execution_count": 13,
      "outputs": [
        {
          "output_type": "stream",
          "name": "stdout",
          "text": [
            "Unique labels in training data: [0 1 2 3 4 5 6]\n",
            "Unique labels in testing data: [0 1 2 3 4 5 6]\n"
          ]
        }
      ]
    },
    {
      "cell_type": "code",
      "source": [
        "# Convert images to single-channel format (add an extra dimension for the channel)\n",
        "train_images = np.expand_dims(train_images, axis=-1)\n",
        "test_images = np.expand_dims(test_images, axis=-1)\n",
        "\n",
        "# Convert labels to one-hot encoded format\n",
        "num_classes = len(np.unique(train_labels))\n",
        "train_labels = keras.utils.to_categorical(train_labels, num_classes)\n",
        "test_labels = keras.utils.to_categorical(test_labels, num_classes)\n",
        "\n",
        "# Determine the image size from the data\n",
        "image_height, image_width, num_channels = train_images.shape[1:]\n",
        "print(\"Image height:\", image_height)\n",
        "print(\"Image width:\", image_width)\n",
        "print(\"Number of channels:\", num_channels)"
      ],
      "metadata": {
        "colab": {
          "base_uri": "https://localhost:8080/"
        },
        "id": "nqg0r4dMcnox",
        "outputId": "4876e6bb-f190-4c64-c428-720c5b4c2052"
      },
      "execution_count": 14,
      "outputs": [
        {
          "output_type": "stream",
          "name": "stdout",
          "text": [
            "Image height: 48\n",
            "Image width: 48\n",
            "Number of channels: 1\n"
          ]
        }
      ]
    },
    {
      "cell_type": "code",
      "source": [
        "# Build the custom CNN model\n",
        "model = keras.Sequential([\n",
        "    layers.Conv2D(32, (3, 3), activation='relu', input_shape=(image_height, image_width, num_channels)),\n",
        "    layers.MaxPooling2D((2, 2)),\n",
        "    layers.Conv2D(64, (3, 3), activation='relu'),\n",
        "    layers.MaxPooling2D((2, 2)),\n",
        "    layers.Conv2D(128, (3, 3), activation='relu'),\n",
        "    layers.Flatten(),\n",
        "    layers.Dense(128, activation='relu'),\n",
        "    layers.Dense(num_classes, activation='softmax')\n",
        "])\n",
        "\n",
        "model.summary()"
      ],
      "metadata": {
        "colab": {
          "base_uri": "https://localhost:8080/"
        },
        "id": "TATInDECcrpV",
        "outputId": "f4c3f94c-1b40-43f9-c404-b74004e2ab38"
      },
      "execution_count": 15,
      "outputs": [
        {
          "output_type": "stream",
          "name": "stdout",
          "text": [
            "Model: \"sequential\"\n",
            "_________________________________________________________________\n",
            " Layer (type)                Output Shape              Param #   \n",
            "=================================================================\n",
            " conv2d (Conv2D)             (None, 46, 46, 32)        320       \n",
            "                                                                 \n",
            " max_pooling2d (MaxPooling2  (None, 23, 23, 32)        0         \n",
            " D)                                                              \n",
            "                                                                 \n",
            " conv2d_1 (Conv2D)           (None, 21, 21, 64)        18496     \n",
            "                                                                 \n",
            " max_pooling2d_1 (MaxPoolin  (None, 10, 10, 64)        0         \n",
            " g2D)                                                            \n",
            "                                                                 \n",
            " conv2d_2 (Conv2D)           (None, 8, 8, 128)         73856     \n",
            "                                                                 \n",
            " flatten (Flatten)           (None, 8192)              0         \n",
            "                                                                 \n",
            " dense (Dense)               (None, 128)               1048704   \n",
            "                                                                 \n",
            " dense_1 (Dense)             (None, 7)                 903       \n",
            "                                                                 \n",
            "=================================================================\n",
            "Total params: 1142279 (4.36 MB)\n",
            "Trainable params: 1142279 (4.36 MB)\n",
            "Non-trainable params: 0 (0.00 Byte)\n",
            "_________________________________________________________________\n"
          ]
        }
      ]
    },
    {
      "cell_type": "code",
      "source": [
        "model.compile(optimizer='adam',\n",
        "              loss='categorical_crossentropy',\n",
        "              metrics=['accuracy'])\n",
        "batch_size = 64\n",
        "epochs = 25\n",
        "\n",
        "model.fit(train_images, train_labels, batch_size=batch_size, epochs=epochs, validation_split=0.1)"
      ],
      "metadata": {
        "colab": {
          "base_uri": "https://localhost:8080/"
        },
        "id": "ktiWCbn7cwYG",
        "outputId": "d37ea01a-58fc-49e5-b39e-c8a4ba70c069"
      },
      "execution_count": 17,
      "outputs": [
        {
          "output_type": "stream",
          "name": "stdout",
          "text": [
            "404/404 [==============================] - 76s 187ms/step - loss: 0.0624 - accuracy: 0.9819 - val_loss: 11.4335 - val_accuracy: 0.2720\n",
            "Epoch 25/25\n",
            "404/404 [==============================] - 77s 190ms/step - loss: 0.0561 - accuracy: 0.9855 - val_loss: 13.3003 - val_accuracy: 0.2316\n"
          ]
        },
        {
          "output_type": "execute_result",
          "data": {
            "text/plain": [
              "<keras.src.callbacks.History at 0x7f974f85cf40>"
            ]
          },
          "metadata": {},
          "execution_count": 16
        },
        {
          "output_type": "stream",
          "name": "stdout",
          "text": [
            "Epoch 1/25\n",
            "404/404 [==============================] - 78s 191ms/step - loss: 0.0783 - accuracy: 0.9765 - val_loss: 10.7053 - val_accuracy: 0.2926\n",
            "Epoch 2/25\n",
            "404/404 [==============================] - 76s 188ms/step - loss: 0.0595 - accuracy: 0.9817 - val_loss: 12.8864 - val_accuracy: 0.2536\n",
            "Epoch 3/25\n",
            "404/404 [==============================] - 76s 188ms/step - loss: 0.0791 - accuracy: 0.9760 - val_loss: 13.6731 - val_accuracy: 0.2038\n",
            "Epoch 4/25\n",
            "404/404 [==============================] - 76s 188ms/step - loss: 0.0657 - accuracy: 0.9803 - val_loss: 12.6564 - val_accuracy: 0.2731\n",
            "Epoch 5/25\n",
            "404/404 [==============================] - 76s 188ms/step - loss: 0.0566 - accuracy: 0.9833 - val_loss: 14.9232 - val_accuracy: 0.1846\n",
            "Epoch 6/25\n",
            "404/404 [==============================] - 76s 187ms/step - loss: 0.0542 - accuracy: 0.9839 - val_loss: 13.5601 - val_accuracy: 0.2369\n",
            "Epoch 7/25\n",
            "404/404 [==============================] - 75s 187ms/step - loss: 0.0555 - accuracy: 0.9837 - val_loss: 15.2314 - val_accuracy: 0.2048\n",
            "Epoch 8/25\n",
            "404/404 [==============================] - 76s 188ms/step - loss: 0.0649 - accuracy: 0.9805 - val_loss: 11.5917 - val_accuracy: 0.3069\n",
            "Epoch 9/25\n",
            "404/404 [==============================] - 75s 186ms/step - loss: 0.0619 - accuracy: 0.9818 - val_loss: 14.3714 - val_accuracy: 0.2375\n",
            "Epoch 10/25\n",
            "404/404 [==============================] - 75s 187ms/step - loss: 0.0538 - accuracy: 0.9851 - val_loss: 12.9685 - val_accuracy: 0.2431\n",
            "Epoch 11/25\n",
            "404/404 [==============================] - 76s 187ms/step - loss: 0.0579 - accuracy: 0.9836 - val_loss: 11.4182 - val_accuracy: 0.2926\n",
            "Epoch 12/25\n",
            "404/404 [==============================] - 75s 187ms/step - loss: 0.0518 - accuracy: 0.9855 - val_loss: 12.2088 - val_accuracy: 0.2929\n",
            "Epoch 13/25\n",
            "404/404 [==============================] - 76s 188ms/step - loss: 0.0538 - accuracy: 0.9839 - val_loss: 15.3009 - val_accuracy: 0.2268\n",
            "Epoch 14/25\n",
            "404/404 [==============================] - 75s 185ms/step - loss: 0.0460 - accuracy: 0.9858 - val_loss: 16.9662 - val_accuracy: 0.1780\n",
            "Epoch 15/25\n",
            "404/404 [==============================] - 75s 187ms/step - loss: 0.0475 - accuracy: 0.9863 - val_loss: 15.9445 - val_accuracy: 0.2382\n",
            "Epoch 16/25\n",
            "404/404 [==============================] - 76s 188ms/step - loss: 0.0502 - accuracy: 0.9844 - val_loss: 12.6774 - val_accuracy: 0.3093\n",
            "Epoch 17/25\n",
            "404/404 [==============================] - 75s 186ms/step - loss: 0.0630 - accuracy: 0.9809 - val_loss: 13.2012 - val_accuracy: 0.2832\n",
            "Epoch 18/25\n",
            "404/404 [==============================] - 76s 187ms/step - loss: 0.0497 - accuracy: 0.9857 - val_loss: 17.1803 - val_accuracy: 0.2055\n",
            "Epoch 19/25\n",
            "404/404 [==============================] - 75s 187ms/step - loss: 0.0408 - accuracy: 0.9884 - val_loss: 15.4792 - val_accuracy: 0.2518\n",
            "Epoch 20/25\n",
            "404/404 [==============================] - 79s 195ms/step - loss: 0.0514 - accuracy: 0.9849 - val_loss: 15.2569 - val_accuracy: 0.2623\n",
            "Epoch 21/25\n",
            "404/404 [==============================] - 75s 187ms/step - loss: 0.0432 - accuracy: 0.9876 - val_loss: 12.9466 - val_accuracy: 0.3267\n",
            "Epoch 22/25\n",
            "404/404 [==============================] - 78s 193ms/step - loss: 0.0479 - accuracy: 0.9856 - val_loss: 17.5707 - val_accuracy: 0.1909\n",
            "Epoch 23/25\n",
            "404/404 [==============================] - 76s 187ms/step - loss: 0.0483 - accuracy: 0.9860 - val_loss: 14.9830 - val_accuracy: 0.2476\n",
            "Epoch 24/25\n",
            "404/404 [==============================] - 75s 187ms/step - loss: 0.0480 - accuracy: 0.9861 - val_loss: 14.9329 - val_accuracy: 0.2762\n",
            "Epoch 25/25\n",
            "404/404 [==============================] - 76s 187ms/step - loss: 0.0398 - accuracy: 0.9883 - val_loss: 19.4575 - val_accuracy: 0.1776\n"
          ]
        },
        {
          "output_type": "execute_result",
          "data": {
            "text/plain": [
              "<keras.src.callbacks.History at 0x7f974adda5f0>"
            ]
          },
          "metadata": {},
          "execution_count": 17
        }
      ]
    },
    {
      "cell_type": "code",
      "source": [
        "test_loss, test_accuracy = model.evaluate(test_images, test_labels, verbose=\"auto\")\n",
        "print(f'Test accuracy: {test_accuracy}')"
      ],
      "metadata": {
        "colab": {
          "base_uri": "https://localhost:8080/"
        },
        "id": "GIBk-UQCc05N",
        "outputId": "0ec97c05-4697-4ccd-e4ba-5b90ccfd454a"
      },
      "execution_count": 18,
      "outputs": [
        {
          "output_type": "stream",
          "name": "stdout",
          "text": [
            "225/225 [==============================] - 8s 34ms/step - loss: 6.4327 - accuracy: 0.4962\n",
            "Test accuracy: 0.49623849987983704\n"
          ]
        }
      ]
    },
    {
      "cell_type": "code",
      "source": [
        "predictions = model.predict(test_images)"
      ],
      "metadata": {
        "colab": {
          "base_uri": "https://localhost:8080/"
        },
        "id": "knfhf1RGsO0g",
        "outputId": "261e195d-c5e4-4544-e524-74753e9dcfde"
      },
      "execution_count": 19,
      "outputs": [
        {
          "output_type": "stream",
          "name": "stdout",
          "text": [
            "225/225 [==============================] - 8s 33ms/step\n"
          ]
        }
      ]
    },
    {
      "cell_type": "code",
      "source": [
        "# Convert one-hot encoded predictions to class labels\n",
        "predicted_labels = np.argmax(predictions, axis=1)\n",
        "\n",
        "# Convert one-hot encoded true labels to class labels\n",
        "true_labels = np.argmax(test_labels, axis=1)\n",
        "\n",
        "# Calculate predicted accuracy\n",
        "predicted_accuracy = np.mean(predicted_labels == true_labels)\n",
        "print(f'Predicted accuracy: {predicted_accuracy}')"
      ],
      "metadata": {
        "colab": {
          "base_uri": "https://localhost:8080/"
        },
        "id": "XJoF5YAZsSfq",
        "outputId": "b3dc2714-5f48-4f71-e168-5f7af3f2852f"
      },
      "execution_count": 20,
      "outputs": [
        {
          "output_type": "stream",
          "name": "stdout",
          "text": [
            "Predicted accuracy: 0.4962385065477849\n"
          ]
        }
      ]
    },
    {
      "cell_type": "code",
      "source": [],
      "metadata": {
        "id": "UacYDnuUshO1"
      },
      "execution_count": null,
      "outputs": []
    }
  ]
}